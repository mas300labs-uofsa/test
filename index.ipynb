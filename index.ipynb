{
 "cells": [
  {
   "cell_type": "markdown",
   "id": "f5349469-3a2a-41d6-b7d8-6137b2ebf9d1",
   "metadata": {},
   "source": [
    "# Title of Notebook\n",
    "\n",
    "text"
   ]
  },
  {
   "cell_type": "code",
   "execution_count": 3,
   "id": "aadc7844-07cb-482e-9c00-5bdcf45d4cdc",
   "metadata": {
    "tags": []
   },
   "outputs": [],
   "source": [
    "##import libraries\n",
    "#import pandas as pd\n",
    "#import matplotlib.pyplot as plt\n",
    "#import numpy as np"
   ]
  },
  {
   "cell_type": "markdown",
   "id": "00bf725a-e44b-42a3-8a5a-0463ef923566",
   "metadata": {},
   "source": [
    "## Second heading\n",
    "\n",
    "Info"
   ]
  },
  {
   "cell_type": "code",
   "execution_count": 4,
   "id": "b5a0831f",
   "metadata": {
    "tags": []
   },
   "outputs": [],
   "source": [
    "#code"
   ]
  },
  {
   "cell_type": "code",
   "execution_count": null,
   "id": "2dbfe30b-c9d6-4583-bcdc-ed2ba505a28a",
   "metadata": {},
   "outputs": [],
   "source": []
  }
 ],
 "metadata": {
  "kernelspec": {
   "display_name": "Python 3 (ipykernel)",
   "language": "python",
   "name": "python3"
  },
  "language_info": {
   "codemirror_mode": {
    "name": "ipython",
    "version": 3
   },
   "file_extension": ".py",
   "mimetype": "text/x-python",
   "name": "python",
   "nbconvert_exporter": "python",
   "pygments_lexer": "ipython3",
   "version": "3.10.11"
  }
 },
 "nbformat": 4,
 "nbformat_minor": 5
}
